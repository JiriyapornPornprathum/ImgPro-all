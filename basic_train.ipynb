{
 "cells": [
  {
   "cell_type": "code",
   "execution_count": 159,
   "metadata": {},
   "outputs": [],
   "source": [
    "import numpy as np\n",
    "import cv2\n",
    "from os import listdir\n",
    "from os.path import isfile,join\n",
    "from tqdm import tqdm\n",
    "import tensorflow as tf\n",
    "from keras.models import Sequential , load_model\n",
    "from keras.layers import Dense,Dropout,Activation,Conv2D, MaxPool2D,Flatten\n",
    "# import matplotlib.pyplot as plt\n",
    "import keras\n",
    "import matplotlib.pyplot as plt\n",
    "import matplotlib.image as mpimg"
   ]
  },
  {
   "cell_type": "code",
   "execution_count": 160,
   "metadata": {},
   "outputs": [
    {
     "name": "stdout",
     "output_type": "stream",
     "text": [
      "['dataset/animal/cat', 'dataset/animal/dog', 'dataset/animal/lion']\n"
     ]
    }
   ],
   "source": [
    "num_class = 3\n",
    "mypath = 'dataset/animal/'\n",
    "imgPath = [mypath + f for f in listdir(mypath)]\n",
    "print(imgPath)"
   ]
  },
  {
   "cell_type": "code",
   "execution_count": 161,
   "metadata": {},
   "outputs": [],
   "source": [
    "def img2data(imgPath):\n",
    "    rawImgs = []\n",
    "    labels = []\n",
    "    for imagePath in imgPath:\n",
    "        # print(imagePath)\n",
    "        for item in listdir(imagePath):\n",
    "            # print(item)\n",
    "            file = imagePath + \"/\" + item\n",
    "            # print(file,file[-1])\n",
    "            # img = mpimg.imread(file)\n",
    "            # plt.imshow(img)\n",
    "            img = cv2.imread(file)\n",
    "            img = cv2.resize(img,(128,128))\n",
    "            rawImgs.append(img)\n",
    "            i = imagePath.split('/')\n",
    "            if i[2] == 'cat':\n",
    "                labels.append([1,0,0])\n",
    "            if i[2] == 'dog':\n",
    "                labels.append([0,1,0])\n",
    "            if i[2] == 'lion':\n",
    "                labels.append([0,0,1])\n",
    "    return rawImgs,labels\n",
    "            \n",
    "            "
   ]
  },
  {
   "cell_type": "code",
   "execution_count": 162,
   "metadata": {},
   "outputs": [
    {
     "data": {
      "text/plain": [
       "((30, 128, 128, 3), (30, 3))"
      ]
     },
     "execution_count": 162,
     "metadata": {},
     "output_type": "execute_result"
    }
   ],
   "source": [
    "x_trian , y_train = img2data(imgPath)\n",
    "x_trian = np.array(x_trian)\n",
    "y_train = np.array(y_train)\n",
    "x_train = x_trian.astype('float32')\n",
    "x_train /= 255\n",
    "x_train.shape,y_train.shape"
   ]
  },
  {
   "cell_type": "code",
   "execution_count": 163,
   "metadata": {},
   "outputs": [
    {
     "data": {
      "text/plain": [
       "array([[[0.32156864, 0.34117648, 0.38039216],\n",
       "        [0.3254902 , 0.34509805, 0.38039216],\n",
       "        [0.3254902 , 0.34509805, 0.38039216],\n",
       "        ...,\n",
       "        [0.32156864, 0.34117648, 0.3764706 ],\n",
       "        [0.31764707, 0.3372549 , 0.37254903],\n",
       "        [0.31764707, 0.3372549 , 0.37254903]],\n",
       "\n",
       "       [[0.32156864, 0.34117648, 0.3764706 ],\n",
       "        [0.32156864, 0.34117648, 0.3764706 ],\n",
       "        [0.3254902 , 0.34509805, 0.38039216],\n",
       "        ...,\n",
       "        [0.31764707, 0.3372549 , 0.37254903],\n",
       "        [0.32156864, 0.34117648, 0.3764706 ],\n",
       "        [0.31764707, 0.3372549 , 0.37254903]],\n",
       "\n",
       "       [[0.32941177, 0.34901962, 0.38431373],\n",
       "        [0.3254902 , 0.34509805, 0.38039216],\n",
       "        [0.3254902 , 0.34509805, 0.38039216],\n",
       "        ...,\n",
       "        [0.31764707, 0.3372549 , 0.37254903],\n",
       "        [0.31764707, 0.3372549 , 0.37254903],\n",
       "        [0.31764707, 0.3372549 , 0.37254903]],\n",
       "\n",
       "       ...,\n",
       "\n",
       "       [[0.7294118 , 0.7176471 , 0.6862745 ],\n",
       "        [0.73333335, 0.72156864, 0.6901961 ],\n",
       "        [0.7490196 , 0.7372549 , 0.7058824 ],\n",
       "        ...,\n",
       "        [0.7647059 , 0.7647059 , 0.7411765 ],\n",
       "        [0.7607843 , 0.7607843 , 0.7372549 ],\n",
       "        [0.7607843 , 0.7607843 , 0.7372549 ]],\n",
       "\n",
       "       [[0.7490196 , 0.7411765 , 0.69803923],\n",
       "        [0.7294118 , 0.72156864, 0.68235296],\n",
       "        [0.7411765 , 0.73333335, 0.69411767],\n",
       "        ...,\n",
       "        [0.74509805, 0.75686276, 0.73333335],\n",
       "        [0.7411765 , 0.7490196 , 0.7254902 ],\n",
       "        [0.7411765 , 0.7490196 , 0.7254902 ]],\n",
       "\n",
       "       [[0.7058824 , 0.69803923, 0.65882355],\n",
       "        [0.7254902 , 0.7176471 , 0.6784314 ],\n",
       "        [0.7254902 , 0.7176471 , 0.6784314 ],\n",
       "        ...,\n",
       "        [0.76862746, 0.7647059 , 0.7411765 ],\n",
       "        [0.7647059 , 0.7647059 , 0.7411765 ],\n",
       "        [0.75686276, 0.75686276, 0.73333335]]], dtype=float32)"
      ]
     },
     "execution_count": 163,
     "metadata": {},
     "output_type": "execute_result"
    }
   ],
   "source": [
    "x_train[0]"
   ]
  },
  {
   "cell_type": "code",
   "execution_count": 164,
   "metadata": {},
   "outputs": [
    {
     "name": "stdout",
     "output_type": "stream",
     "text": [
      "Model: \"sequential\"\n",
      "_________________________________________________________________\n",
      " Layer (type)                Output Shape              Param #   \n",
      "=================================================================\n",
      " conv2d (Conv2D)             (None, 126, 126, 128)     3584      \n",
      "                                                                 \n",
      " max_pooling2d (MaxPooling2D  (None, 63, 63, 128)      0         \n",
      " )                                                               \n",
      "                                                                 \n",
      " dense (Dense)               (None, 63, 63, 16)        2064      \n",
      "                                                                 \n",
      " dense_1 (Dense)             (None, 63, 63, 16)        272       \n",
      "                                                                 \n",
      " flatten (Flatten)           (None, 63504)             0         \n",
      "                                                                 \n",
      " dense_2 (Dense)             (None, 3)                 190515    \n",
      "                                                                 \n",
      "=================================================================\n",
      "Total params: 196,435\n",
      "Trainable params: 196,435\n",
      "Non-trainable params: 0\n",
      "_________________________________________________________________\n"
     ]
    }
   ],
   "source": [
    "model = Sequential()\n",
    "\n",
    "model.add(Conv2D(128,(3,3),activation='relu',input_shape=(128,128,3)))\n",
    "model.add(MaxPool2D(2))\n",
    "model.add(Dense(16))\n",
    "model.add(Dense(16))\n",
    "model.add(Flatten())\n",
    "model.add(Dense(num_class,activation='softmax'))\n",
    "model.summary()"
   ]
  },
  {
   "cell_type": "code",
   "execution_count": 180,
   "metadata": {},
   "outputs": [
    {
     "name": "stdout",
     "output_type": "stream",
     "text": [
      "Epoch 1/5\n",
      "1/1 [==============================] - 2s 2s/step - loss: 0.5039 - accuracy: 0.9333 - val_loss: 2.3625 - val_accuracy: 0.3667\n",
      "Epoch 2/5\n",
      "1/1 [==============================] - 1s 1s/step - loss: 2.3625 - accuracy: 0.3667 - val_loss: 0.4911 - val_accuracy: 0.8667\n",
      "Epoch 3/5\n",
      "1/1 [==============================] - 1s 1s/step - loss: 0.4911 - accuracy: 0.8667 - val_loss: 0.5801 - val_accuracy: 0.7333\n",
      "Epoch 4/5\n",
      "1/1 [==============================] - 1s 944ms/step - loss: 0.5801 - accuracy: 0.7333 - val_loss: 0.6349 - val_accuracy: 0.7333\n",
      "Epoch 5/5\n",
      "1/1 [==============================] - 1s 861ms/step - loss: 0.6349 - accuracy: 0.7333 - val_loss: 0.4763 - val_accuracy: 0.8333\n"
     ]
    },
    {
     "data": {
      "text/plain": [
       "<keras.callbacks.History at 0x2cb0dcdaa90>"
      ]
     },
     "execution_count": 180,
     "metadata": {},
     "output_type": "execute_result"
    }
   ],
   "source": [
    "model.compile(optimizer=tf.keras.optimizers.Adam(learning_rate=0.001),\n",
    "    loss = 'categorical_crossentropy',\n",
    "    metrics= ['accuracy']\n",
    ")\n",
    "batch_size = 32\n",
    "model.fit(x_train,y_train,batch_size=batch_size,epochs=5,validation_data=(x_train,y_train))"
   ]
  },
  {
   "cell_type": "code",
   "execution_count": 181,
   "metadata": {},
   "outputs": [],
   "source": [
    "model.save(\"trainFile.h5\")"
   ]
  },
  {
   "cell_type": "code",
   "execution_count": 182,
   "metadata": {},
   "outputs": [
    {
     "name": "stdout",
     "output_type": "stream",
     "text": [
      "<PIL.Image.Image image mode=RGB size=128x128 at 0x2CB0DABA6A0>\n",
      "1/1 [==============================] - 0s 417ms/step\n",
      "1 predict:Dog\n"
     ]
    }
   ],
   "source": [
    "_model = keras.models.load_model('trainFile.h5')\n",
    "path = \"./dataset/animal/dog/8b46593423246eab1625f25aea55ea23.jpg\"\n",
    "img = tf.keras.preprocessing.image.load_img(\n",
    "    path, target_size=(128,128)\n",
    ")\n",
    "print(img)\n",
    "img_array = tf.keras.preprocessing.image.img_to_array(img)\n",
    "img_array = tf.expand_dims(img_array, 0)  # Create batch axis\n",
    "\n",
    "predictions = _model.predict(img_array)\n",
    "\n",
    "label = ['Cat','Dog','Lion']\n",
    "result = label[np.argmax(predictions)]\n",
    "print(np.argmax(predictions),'predict:'+str(result))"
   ]
  },
  {
   "cell_type": "code",
   "execution_count": 192,
   "metadata": {},
   "outputs": [],
   "source": [
    "from tkinter import *\n",
    "from tkinter.filedialog import *\n",
    "from PIL import Image,ImageTk\n",
    "import numpy as np\n",
    "from tensorflow.keras.applications.imagenet_utils import preprocess_input"
   ]
  },
  {
   "cell_type": "code",
   "execution_count": 193,
   "metadata": {},
   "outputs": [],
   "source": [
    "def chooseImage():\n",
    "    fileTypes = (\n",
    "        ('image file' , '*.jpg'),\n",
    "        ('All files', '*.*')\n",
    "    )\n",
    "    fileName = askopenfilename()\n",
    "    im = Image.open(fileName)\n",
    "    resized_image = im.resize((300,300))\n",
    "    ph = ImageTk.PhotoImage(resized_image)\n",
    "    label = Label(root, image=ph)\n",
    "    label.image = ph\n",
    "    label.grid(row=1,column=0)\n",
    "    predictImage(fileName)\n",
    "        "
   ]
  },
  {
   "cell_type": "code",
   "execution_count": 194,
   "metadata": {},
   "outputs": [],
   "source": [
    "def predictImage(fileName):\n",
    "    loadModel = keras.models.load_model('trainFile.h5')\n",
    "    labels = [\"Cat\",\"Dog\",\"Lion\"]\n",
    "    img_path = fileName\n",
    "    img = cv2.imread(img_path)\n",
    "    img = cv2.resize(img, (128, 128))\n",
    "    x = np.expand_dims(img, axis=0)\n",
    "    x = preprocess_input(x)\n",
    "    print('Input image shape:', x.shape)\n",
    "    preds = loadModel.predict(x)\n",
    "    print(\"predicted class: \", preds*100)  \n",
    "    index_name = np.argmax(preds)\n",
    "    print(\"Predict image is : \", labels[index_name])\n",
    "    predictName.set(labels[index_name])\n",
    "    predict_predict = preds[0][np.argmax(preds)]*100\n",
    "    predictPercent.set(predict_predict)\n",
    "    # _model = keras.models.load_model('trainFile.h5')\n",
    "    # path = fileName\n",
    "    # img = tf.keras.preprocessing.image.load_img(\n",
    "    #     path, target_size=(128,128)\n",
    "    # )\n",
    "    # print(img)\n",
    "    # img_array = tf.keras.preprocessing.image.img_to_array(img)\n",
    "    # img_array = tf.expand_dims(img_array, 0)  # Create batch axis\n",
    "    # predictions = _model.predict(img_array)\n",
    "    # label = ['Cat','Dog','Lion']\n",
    "    # result = label[np.argmax(predictions)]\n",
    "    # animalName = str(result)\n",
    "    # predictName.set(animalName)\n",
    "    # predictPercent.set(predict_percent)\n",
    "    # print(predictions*100)\n",
    "    # print(animalName)"
   ]
  },
  {
   "cell_type": "code",
   "execution_count": 195,
   "metadata": {},
   "outputs": [
    {
     "name": "stderr",
     "output_type": "stream",
     "text": [
      "Exception in Tkinter callback\n",
      "Traceback (most recent call last):\n",
      "  File \"c:\\Users\\pomda\\anaconda3\\lib\\site-packages\\PIL\\Image.py\", line 3096, in open\n",
      "    fp.seek(0)\n",
      "AttributeError: 'str' object has no attribute 'seek'\n",
      "\n",
      "During handling of the above exception, another exception occurred:\n",
      "\n",
      "Traceback (most recent call last):\n",
      "  File \"c:\\Users\\pomda\\anaconda3\\lib\\tkinter\\__init__.py\", line 1892, in __call__\n",
      "    return self.func(*args)\n",
      "  File \"C:\\Users\\pomda\\AppData\\Local\\Temp\\ipykernel_1832\\2035122172.py\", line 7, in chooseImage\n",
      "    im = Image.open(fileName)\n",
      "  File \"c:\\Users\\pomda\\anaconda3\\lib\\site-packages\\PIL\\Image.py\", line 3098, in open\n",
      "    fp = io.BytesIO(fp.read())\n",
      "AttributeError: 'str' object has no attribute 'read'\n"
     ]
    },
    {
     "name": "stdout",
     "output_type": "stream",
     "text": [
      "Input image shape: (1, 128, 128, 3)\n",
      "1/1 [==============================] - 0s 185ms/step\n",
      "predicted class:  [[ 0.3710636 99.62894    0.       ]]\n",
      "Predict image is :  Dog\n"
     ]
    }
   ],
   "source": [
    "root = Tk()\n",
    "root.title(\"Animal Predict\")\n",
    "root.geometry(\"400x400\")\n",
    "frame = Frame(root)\n",
    "frame.grid(row=0,column=0)\n",
    "btn1 = Button(frame,text = 'Choose file',command= chooseImage).grid(row=0,column=0)\n",
    "predictName = StringVar()\n",
    "predictPercent = StringVar()\n",
    "Label(frame,text=\"Predict Name\").grid(row=1,column=0)\n",
    "e1 = Entry(frame,textvariable=predictName).grid(row=1,column=1)\n",
    "Label(frame,text=\"Predict Percent\").grid(row=2,column=0)\n",
    "e2 = Entry(frame,textvariable=predictPercent).grid(row=2,column=1)\n",
    "root.mainloop()"
   ]
  }
 ],
 "metadata": {
  "kernelspec": {
   "display_name": "Python 3.9.7 ('base')",
   "language": "python",
   "name": "python3"
  },
  "language_info": {
   "codemirror_mode": {
    "name": "ipython",
    "version": 3
   },
   "file_extension": ".py",
   "mimetype": "text/x-python",
   "name": "python",
   "nbconvert_exporter": "python",
   "pygments_lexer": "ipython3",
   "version": "3.9.7"
  },
  "orig_nbformat": 4,
  "vscode": {
   "interpreter": {
    "hash": "52d90d3cc821dd0beedd6e719dbdecc722c226b9d90ed1b663c34e1877f1142e"
   }
  }
 },
 "nbformat": 4,
 "nbformat_minor": 2
}
